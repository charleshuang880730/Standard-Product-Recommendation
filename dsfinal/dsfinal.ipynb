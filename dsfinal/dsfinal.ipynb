{
 "cells": [
  {
   "cell_type": "code",
   "execution_count": 2,
   "id": "1043852b",
   "metadata": {},
   "outputs": [
    {
     "name": "stdout",
     "output_type": "stream",
     "text": [
      "original train_x shape: (13391269, 7)\n",
      "original train_y shape: (13391269,)\n",
      "\n",
      "final train_x shape: (12391269, 7)\n",
      "final train_y shape: (12391269,)\n",
      "final valid_x shape: (1000000, 7)\n",
      "final valid_y shape: (1000000,)\n",
      "final test_x shape: (929615, 7)\n"
     ]
    }
   ],
   "source": [
    "import os\n",
    "import csv\n",
    "import pandas as pd\n",
    "import numpy as np\n",
    "\n",
    "from sklearn.ensemble import RandomForestClassifier\n",
    "from catboost import CatBoostClassifier\n",
    "from xgboost import XGBClassifier\n",
    "#from lightgbm import LGBMClassifier\n",
    "from sklearn.metrics import classification_report\n",
    "\n",
    "def get_recomendations(recommendations, test_data_loc, filename):\n",
    "  '''\n",
    "  This function takes recomendation, test data location and file name \n",
    "  creates a csv file in the submission file format\n",
    "\n",
    "  recommendations : list of recomendations\n",
    "  test_data_loc : location of test data\n",
    "  filename : Name of the submission file\n",
    "  '''\n",
    "  test_data_file = csv.DictReader(open(test_data_loc)) #Reading the test data\n",
    "  test_ids = np.array([int(row['ncodpers']) for row in test_data_file]) #Get the user ids of customers in test data\n",
    "  fields = ['ncodpers', 'added_products'] #Column names\n",
    "  rows = np.vstack((test_ids, np.array(recommendations))).T #Creating an array of test ids and recomendations\n",
    "\n",
    "  with open(filename, 'w') as csvfile: #Creating a csv file with given name\n",
    "    csvwriter = csv.writer(csvfile)\n",
    "    csvwriter.writerow(fields) #Writing column names tothe file\n",
    "    csvwriter.writerows(rows) #Writing the rows to the file\n",
    "\n",
    "  print(filename, 'is created')\n",
    "\n",
    "test_x = np.load(\"test_x.npy\", allow_pickle=True)\n",
    "test_x_with_code = np.load(\"test_x_with_code.npy\", allow_pickle=True)\n",
    "train_x = np.load(\"train_x.npy\", allow_pickle=True)\n",
    "\n",
    "# Y 是原始資料的商品(multi-label)\n",
    "train_Y = np.load(\"train_y.npy\", allow_pickle=True)\n",
    "# y 是原始商品資料去做 argmax 取出的\n",
    "train_y = np.zeros(len(train_Y))\n",
    "\n",
    "df = pd.DataFrame(test_x_with_code)\n",
    "code = df[7]\n",
    "\n",
    "table = pd.read_csv('product.csv')\n",
    "table = table.drop('product_name', axis=1)\n",
    "table = table['product_id'].to_dict()\n",
    "\n",
    "for idx, data in enumerate(train_Y):\n",
    "    train_y[idx] = np.argmax(data)\n",
    "\n",
    "valid_size = 1000000\n",
    "print(f\"original train_x shape: {train_x.shape}\")\n",
    "print(f\"original train_y shape: {train_y.shape}\\n\")\n",
    "\n",
    "valid_x = train_x[:valid_size]  # 100,000 samples for validation\n",
    "valid_y = train_y[:valid_size]  # 100,000 samples for validation\n",
    "valid_Y = train_Y[:valid_size]\n",
    "\n",
    "train_x = train_x[valid_size:]\n",
    "train_y = train_y[valid_size:]\n",
    "train_Y = train_Y[valid_size:]\n",
    "\n",
    "print(f\"final train_x shape: {train_x.shape}\")\n",
    "print(f\"final train_y shape: {train_y.shape}\")\n",
    "print(f\"final valid_x shape: {valid_x.shape}\")\n",
    "print(f\"final valid_y shape: {valid_y.shape}\")\n",
    "print(f\"final test_x shape: {test_x.shape}\")"
   ]
  },
  {
   "cell_type": "code",
   "execution_count": null,
   "id": "acc534c7",
   "metadata": {},
   "outputs": [],
   "source": [
    "rf = RandomForestClassifier()"
   ]
  },
  {
   "cell_type": "code",
   "execution_count": null,
   "id": "9a09885c",
   "metadata": {},
   "outputs": [],
   "source": [
    "xgb_model = XGBClassifier(num_class=24,\n",
    "                        random_state=0,\n",
    "                        objective='multi:softmax',\n",
    "                        learning_rate=0.1,\n",
    "                        max_depth=3    \n",
    "                        )\n",
    "\n",
    "xgb_model.fit(train_x, train_y, verbose=1)\n",
    "y_pred = xgb_model.predict(valid_x)\n",
    "print(classification_report(valid_y, y_pred))"
   ]
  },
  {
   "cell_type": "code",
   "execution_count": null,
   "id": "d5313789",
   "metadata": {},
   "outputs": [],
   "source": [
    "gbm_model = LGBMClassifier(learning_rate=0.05, \n",
    "                            n_estimators=100, \n",
    "                            random_state=0,\n",
    "                            objective='multiclass',\n",
    "                            num_class=24,\n",
    "                            max_depth=3,\n",
    "                            )\n",
    "\n",
    "gbm_model.fit(train_x, train_y, verbose=1)\n",
    "y_pred = gbm_model.predict(valid_x)\n",
    "print(classification_report(valid_y, y_pred))"
   ]
  },
  {
   "cell_type": "code",
   "execution_count": 3,
   "id": "6a6852c5",
   "metadata": {
    "scrolled": true
   },
   "outputs": [
    {
     "data": {
      "application/vnd.jupyter.widget-view+json": {
       "model_id": "8bfb8868f16e42ca8b9a8dcc386cad4b",
       "version_major": 2,
       "version_minor": 0
      },
      "text/plain": [
       "MetricVisualizer(layout=Layout(align_self='stretch', height='500px'))"
      ]
     },
     "metadata": {},
     "output_type": "display_data"
    },
    {
     "name": "stdout",
     "output_type": "stream",
     "text": [
      "0:\tlearn: 0.6845142\ttest: 0.6849254\tbest: 0.6849254 (0)\ttotal: 21.5s\tremaining: 53m 17s\n",
      "1:\tlearn: 0.6760560\ttest: 0.6768498\tbest: 0.6768498 (1)\ttotal: 46.6s\tremaining: 57m 29s\n",
      "2:\tlearn: 0.6677734\ttest: 0.6689672\tbest: 0.6689672 (2)\ttotal: 1m 11s\tremaining: 58m 28s\n",
      "3:\tlearn: 0.6596442\ttest: 0.6612235\tbest: 0.6612235 (3)\ttotal: 1m 37s\tremaining: 59m 17s\n",
      "4:\tlearn: 0.6516786\ttest: 0.6536459\tbest: 0.6536459 (4)\ttotal: 2m 5s\tremaining: 1h 27s\n",
      "5:\tlearn: 0.6438576\ttest: 0.6461965\tbest: 0.6461965 (5)\ttotal: 2m 33s\tremaining: 1h 1m 19s\n",
      "6:\tlearn: 0.6361817\ttest: 0.6388636\tbest: 0.6388636 (6)\ttotal: 2m 59s\tremaining: 1h 1m 1s\n",
      "7:\tlearn: 0.6286586\ttest: 0.6317062\tbest: 0.6317062 (7)\ttotal: 3m 24s\tremaining: 1h 27s\n",
      "8:\tlearn: 0.6212640\ttest: 0.6246644\tbest: 0.6246644 (8)\ttotal: 3m 49s\tremaining: 1h 2s\n",
      "9:\tlearn: 0.6140065\ttest: 0.6177526\tbest: 0.6177526 (9)\ttotal: 4m 17s\tremaining: 1h 2s\n",
      "10:\tlearn: 0.6068845\ttest: 0.6109724\tbest: 0.6109724 (10)\ttotal: 4m 43s\tremaining: 59m 41s\n",
      "11:\tlearn: 0.5998893\ttest: 0.6043111\tbest: 0.6043111 (11)\ttotal: 5m 7s\tremaining: 58m 55s\n",
      "12:\tlearn: 0.5930271\ttest: 0.5977769\tbest: 0.5977769 (12)\ttotal: 5m 32s\tremaining: 58m 21s\n",
      "13:\tlearn: 0.5862916\ttest: 0.5913686\tbest: 0.5913686 (13)\ttotal: 5m 59s\tremaining: 58m 7s\n",
      "14:\tlearn: 0.5796842\ttest: 0.5850775\tbest: 0.5850775 (14)\ttotal: 6m 27s\tremaining: 58m 5s\n",
      "15:\tlearn: 0.5731772\ttest: 0.5788833\tbest: 0.5788833 (15)\ttotal: 6m 56s\tremaining: 58m 5s\n",
      "16:\tlearn: 0.5667898\ttest: 0.5728098\tbest: 0.5728098 (16)\ttotal: 7m 22s\tremaining: 57m 43s\n",
      "17:\tlearn: 0.5605095\ttest: 0.5668319\tbest: 0.5668319 (17)\ttotal: 7m 48s\tremaining: 57m 16s\n",
      "18:\tlearn: 0.5543410\ttest: 0.5609417\tbest: 0.5609417 (18)\ttotal: 8m 15s\tremaining: 56m 56s\n",
      "19:\tlearn: 0.5482706\ttest: 0.5551636\tbest: 0.5551636 (19)\ttotal: 8m 43s\tremaining: 56m 42s\n",
      "20:\tlearn: 0.5423039\ttest: 0.5494682\tbest: 0.5494682 (20)\ttotal: 9m 9s\tremaining: 56m 17s\n",
      "21:\tlearn: 0.5364459\ttest: 0.5438988\tbest: 0.5438988 (21)\ttotal: 9m 36s\tremaining: 55m 53s\n",
      "22:\tlearn: 0.5306790\ttest: 0.5384105\tbest: 0.5384105 (22)\ttotal: 10m 3s\tremaining: 55m 29s\n",
      "23:\tlearn: 0.5250121\ttest: 0.5330184\tbest: 0.5330184 (23)\ttotal: 10m 31s\tremaining: 55m 14s\n",
      "24:\tlearn: 0.5194360\ttest: 0.5277135\tbest: 0.5277135 (24)\ttotal: 10m 58s\tremaining: 54m 53s\n",
      "25:\tlearn: 0.5139682\ttest: 0.5225227\tbest: 0.5225227 (25)\ttotal: 11m 26s\tremaining: 54m 33s\n",
      "26:\tlearn: 0.5085732\ttest: 0.5173932\tbest: 0.5173932 (26)\ttotal: 11m 55s\tremaining: 54m 18s\n",
      "27:\tlearn: 0.5032777\ttest: 0.5123692\tbest: 0.5123692 (27)\ttotal: 12m 23s\tremaining: 54m 1s\n",
      "28:\tlearn: 0.4980601\ttest: 0.5074065\tbest: 0.5074065 (28)\ttotal: 12m 54s\tremaining: 53m 49s\n",
      "29:\tlearn: 0.4929233\ttest: 0.5025051\tbest: 0.5025051 (29)\ttotal: 13m 23s\tremaining: 53m 33s\n",
      "30:\tlearn: 0.4878734\ttest: 0.4977025\tbest: 0.4977025 (30)\ttotal: 13m 50s\tremaining: 53m 8s\n",
      "31:\tlearn: 0.4829001\ttest: 0.4929588\tbest: 0.4929588 (31)\ttotal: 14m 17s\tremaining: 52m 42s\n",
      "32:\tlearn: 0.4780067\ttest: 0.4882894\tbest: 0.4882894 (32)\ttotal: 14m 44s\tremaining: 52m 15s\n",
      "33:\tlearn: 0.4731897\ttest: 0.4837123\tbest: 0.4837123 (33)\ttotal: 15m 11s\tremaining: 51m 48s\n",
      "34:\tlearn: 0.4684563\ttest: 0.4792154\tbest: 0.4792154 (34)\ttotal: 15m 37s\tremaining: 51m 21s\n",
      "35:\tlearn: 0.4637951\ttest: 0.4747900\tbest: 0.4747900 (35)\ttotal: 16m 4s\tremaining: 50m 55s\n",
      "36:\tlearn: 0.4591999\ttest: 0.4704234\tbest: 0.4704234 (36)\ttotal: 16m 33s\tremaining: 50m 33s\n",
      "37:\tlearn: 0.4546762\ttest: 0.4661099\tbest: 0.4661099 (37)\ttotal: 17m\tremaining: 50m 6s\n",
      "38:\tlearn: 0.4502281\ttest: 0.4618862\tbest: 0.4618862 (38)\ttotal: 17m 27s\tremaining: 49m 40s\n",
      "39:\tlearn: 0.4458490\ttest: 0.4577281\tbest: 0.4577281 (39)\ttotal: 17m 54s\tremaining: 49m 14s\n",
      "40:\tlearn: 0.4415276\ttest: 0.4536126\tbest: 0.4536126 (40)\ttotal: 18m 23s\tremaining: 48m 53s\n",
      "41:\tlearn: 0.4372747\ttest: 0.4495723\tbest: 0.4495723 (41)\ttotal: 18m 52s\tremaining: 48m 32s\n",
      "42:\tlearn: 0.4330852\ttest: 0.4455932\tbest: 0.4455932 (42)\ttotal: 19m 21s\tremaining: 48m 9s\n",
      "43:\tlearn: 0.4289683\ttest: 0.4416752\tbest: 0.4416752 (43)\ttotal: 19m 51s\tremaining: 47m 51s\n",
      "44:\tlearn: 0.4249077\ttest: 0.4378090\tbest: 0.4378090 (44)\ttotal: 20m 23s\tremaining: 47m 34s\n",
      "45:\tlearn: 0.4209085\ttest: 0.4340160\tbest: 0.4340160 (45)\ttotal: 20m 55s\tremaining: 47m 18s\n",
      "46:\tlearn: 0.4169664\ttest: 0.4302665\tbest: 0.4302665 (46)\ttotal: 21m 26s\tremaining: 46m 59s\n",
      "47:\tlearn: 0.4130864\ttest: 0.4265884\tbest: 0.4265884 (47)\ttotal: 22m 4s\tremaining: 46m 53s\n",
      "48:\tlearn: 0.4092609\ttest: 0.4229609\tbest: 0.4229609 (48)\ttotal: 22m 39s\tremaining: 46m 41s\n",
      "49:\tlearn: 0.4054986\ttest: 0.4194019\tbest: 0.4194019 (49)\ttotal: 23m 12s\tremaining: 46m 24s\n",
      "50:\tlearn: 0.4017783\ttest: 0.4158614\tbest: 0.4158614 (50)\ttotal: 23m 45s\tremaining: 46m 7s\n",
      "51:\tlearn: 0.3981165\ttest: 0.4123865\tbest: 0.4123865 (51)\ttotal: 24m 19s\tremaining: 45m 51s\n",
      "52:\tlearn: 0.3945025\ttest: 0.4089488\tbest: 0.4089488 (52)\ttotal: 24m 54s\tremaining: 45m 34s\n",
      "53:\tlearn: 0.3909481\ttest: 0.4055674\tbest: 0.4055674 (53)\ttotal: 25m 28s\tremaining: 45m 16s\n",
      "54:\tlearn: 0.3874432\ttest: 0.4022488\tbest: 0.4022488 (54)\ttotal: 26m 3s\tremaining: 45m\n",
      "55:\tlearn: 0.3839895\ttest: 0.3989758\tbest: 0.3989758 (55)\ttotal: 26m 35s\tremaining: 44m 37s\n",
      "56:\tlearn: 0.3805845\ttest: 0.3957353\tbest: 0.3957353 (56)\ttotal: 27m 6s\tremaining: 44m 13s\n",
      "57:\tlearn: 0.3772261\ttest: 0.3925572\tbest: 0.3925572 (57)\ttotal: 27m 39s\tremaining: 43m 52s\n",
      "58:\tlearn: 0.3739192\ttest: 0.3894321\tbest: 0.3894321 (58)\ttotal: 28m 12s\tremaining: 43m 29s\n",
      "59:\tlearn: 0.3706564\ttest: 0.3863443\tbest: 0.3863443 (59)\ttotal: 28m 45s\tremaining: 43m 8s\n",
      "60:\tlearn: 0.3674370\ttest: 0.3832882\tbest: 0.3832882 (60)\ttotal: 29m 17s\tremaining: 42m 44s\n",
      "61:\tlearn: 0.3642617\ttest: 0.3802693\tbest: 0.3802693 (61)\ttotal: 29m 50s\tremaining: 42m 21s\n",
      "62:\tlearn: 0.3611414\ttest: 0.3773057\tbest: 0.3773057 (62)\ttotal: 30m 24s\tremaining: 41m 59s\n",
      "63:\tlearn: 0.3580575\ttest: 0.3743903\tbest: 0.3743903 (63)\ttotal: 31m 1s\tremaining: 41m 41s\n",
      "64:\tlearn: 0.3550163\ttest: 0.3715129\tbest: 0.3715129 (64)\ttotal: 31m 36s\tremaining: 41m 19s\n",
      "65:\tlearn: 0.3520152\ttest: 0.3686657\tbest: 0.3686657 (65)\ttotal: 32m 14s\tremaining: 41m 1s\n",
      "66:\tlearn: 0.3490513\ttest: 0.3658595\tbest: 0.3658595 (66)\ttotal: 32m 49s\tremaining: 40m 40s\n",
      "67:\tlearn: 0.3461341\ttest: 0.3630901\tbest: 0.3630901 (67)\ttotal: 33m 23s\tremaining: 40m 16s\n",
      "68:\tlearn: 0.3432627\ttest: 0.3603636\tbest: 0.3603636 (68)\ttotal: 33m 57s\tremaining: 39m 51s\n",
      "69:\tlearn: 0.3404313\ttest: 0.3576719\tbest: 0.3576719 (69)\ttotal: 34m 31s\tremaining: 39m 27s\n",
      "70:\tlearn: 0.3376327\ttest: 0.3550265\tbest: 0.3550265 (70)\ttotal: 35m 7s\tremaining: 39m 5s\n",
      "71:\tlearn: 0.3348711\ttest: 0.3524183\tbest: 0.3524183 (71)\ttotal: 35m 47s\tremaining: 38m 46s\n",
      "72:\tlearn: 0.3321410\ttest: 0.3498256\tbest: 0.3498256 (72)\ttotal: 36m 23s\tremaining: 38m 23s\n",
      "73:\tlearn: 0.3294527\ttest: 0.3472846\tbest: 0.3472846 (73)\ttotal: 37m 1s\tremaining: 38m 1s\n",
      "74:\tlearn: 0.3267968\ttest: 0.3447692\tbest: 0.3447692 (74)\ttotal: 37m 42s\tremaining: 37m 42s\n",
      "75:\tlearn: 0.3241772\ttest: 0.3422868\tbest: 0.3422868 (75)\ttotal: 38m 21s\tremaining: 37m 21s\n",
      "76:\tlearn: 0.3215961\ttest: 0.3398354\tbest: 0.3398354 (76)\ttotal: 39m 1s\tremaining: 36m 59s\n",
      "77:\tlearn: 0.3190557\ttest: 0.3374222\tbest: 0.3374222 (77)\ttotal: 39m 39s\tremaining: 36m 36s\n",
      "78:\tlearn: 0.3165407\ttest: 0.3350349\tbest: 0.3350349 (78)\ttotal: 40m 19s\tremaining: 36m 14s\n",
      "79:\tlearn: 0.3140633\ttest: 0.3327028\tbest: 0.3327028 (79)\ttotal: 40m 57s\tremaining: 35m 50s\n",
      "80:\tlearn: 0.3116183\ttest: 0.3303702\tbest: 0.3303702 (80)\ttotal: 41m 38s\tremaining: 35m 28s\n",
      "81:\tlearn: 0.3092006\ttest: 0.3280789\tbest: 0.3280789 (81)\ttotal: 42m 20s\tremaining: 35m 6s\n",
      "82:\tlearn: 0.3068136\ttest: 0.3258309\tbest: 0.3258309 (82)\ttotal: 42m 59s\tremaining: 34m 42s\n",
      "83:\tlearn: 0.3044548\ttest: 0.3235959\tbest: 0.3235959 (83)\ttotal: 43m 39s\tremaining: 34m 18s\n",
      "84:\tlearn: 0.3021312\ttest: 0.3213992\tbest: 0.3213992 (84)\ttotal: 44m 18s\tremaining: 33m 52s\n",
      "85:\tlearn: 0.2998398\ttest: 0.3192241\tbest: 0.3192241 (85)\ttotal: 44m 59s\tremaining: 33m 28s\n",
      "86:\tlearn: 0.2975779\ttest: 0.3170908\tbest: 0.3170908 (86)\ttotal: 45m 41s\tremaining: 33m 5s\n",
      "87:\tlearn: 0.2953465\ttest: 0.3149875\tbest: 0.3149875 (87)\ttotal: 46m 20s\tremaining: 32m 39s\n",
      "88:\tlearn: 0.2931429\ttest: 0.3128982\tbest: 0.3128982 (88)\ttotal: 47m 4s\tremaining: 32m 16s\n",
      "89:\tlearn: 0.2909757\ttest: 0.3108549\tbest: 0.3108549 (89)\ttotal: 47m 46s\tremaining: 31m 51s\n"
     ]
    },
    {
     "name": "stdout",
     "output_type": "stream",
     "text": [
      "90:\tlearn: 0.2888266\ttest: 0.3088202\tbest: 0.3088202 (90)\ttotal: 48m 28s\tremaining: 31m 25s\n",
      "91:\tlearn: 0.2867076\ttest: 0.3068269\tbest: 0.3068269 (91)\ttotal: 49m 9s\tremaining: 30m 59s\n",
      "92:\tlearn: 0.2846088\ttest: 0.3048469\tbest: 0.3048469 (92)\ttotal: 49m 47s\tremaining: 30m 30s\n",
      "93:\tlearn: 0.2825400\ttest: 0.3028960\tbest: 0.3028960 (93)\ttotal: 50m 25s\tremaining: 30m 2s\n",
      "94:\tlearn: 0.2804960\ttest: 0.3009695\tbest: 0.3009695 (94)\ttotal: 51m 6s\tremaining: 29m 35s\n",
      "95:\tlearn: 0.2784808\ttest: 0.2990537\tbest: 0.2990537 (95)\ttotal: 51m 44s\tremaining: 29m 6s\n",
      "96:\tlearn: 0.2764946\ttest: 0.2971727\tbest: 0.2971727 (96)\ttotal: 52m 23s\tremaining: 28m 37s\n",
      "97:\tlearn: 0.2745302\ttest: 0.2953165\tbest: 0.2953165 (97)\ttotal: 53m 3s\tremaining: 28m 9s\n",
      "98:\tlearn: 0.2725912\ttest: 0.2934895\tbest: 0.2934895 (98)\ttotal: 53m 43s\tremaining: 27m 40s\n",
      "99:\tlearn: 0.2706844\ttest: 0.2916744\tbest: 0.2916744 (99)\ttotal: 54m 20s\tremaining: 27m 10s\n",
      "100:\tlearn: 0.2687976\ttest: 0.2899002\tbest: 0.2899002 (100)\ttotal: 54m 59s\tremaining: 26m 40s\n",
      "101:\tlearn: 0.2669358\ttest: 0.2881435\tbest: 0.2881435 (101)\ttotal: 55m 36s\tremaining: 26m 10s\n",
      "102:\tlearn: 0.2650899\ttest: 0.2864092\tbest: 0.2864092 (102)\ttotal: 56m 14s\tremaining: 25m 39s\n",
      "103:\tlearn: 0.2632667\ttest: 0.2846910\tbest: 0.2846910 (103)\ttotal: 56m 52s\tremaining: 25m 9s\n",
      "104:\tlearn: 0.2614694\ttest: 0.2829992\tbest: 0.2829992 (104)\ttotal: 57m 30s\tremaining: 24m 38s\n",
      "105:\tlearn: 0.2596925\ttest: 0.2813173\tbest: 0.2813173 (105)\ttotal: 58m 7s\tremaining: 24m 7s\n",
      "106:\tlearn: 0.2579391\ttest: 0.2796629\tbest: 0.2796629 (106)\ttotal: 58m 44s\tremaining: 23m 36s\n",
      "107:\tlearn: 0.2562139\ttest: 0.2780374\tbest: 0.2780374 (107)\ttotal: 59m 21s\tremaining: 23m 5s\n",
      "108:\tlearn: 0.2545037\ttest: 0.2764254\tbest: 0.2764254 (108)\ttotal: 59m 57s\tremaining: 22m 33s\n",
      "109:\tlearn: 0.2528182\ttest: 0.2748314\tbest: 0.2748314 (109)\ttotal: 1h 35s\tremaining: 22m 1s\n",
      "110:\tlearn: 0.2511490\ttest: 0.2732643\tbest: 0.2732643 (110)\ttotal: 1h 1m 13s\tremaining: 21m 30s\n",
      "111:\tlearn: 0.2495032\ttest: 0.2717011\tbest: 0.2717011 (111)\ttotal: 1h 1m 51s\tremaining: 20m 59s\n",
      "112:\tlearn: 0.2478796\ttest: 0.2701862\tbest: 0.2701862 (112)\ttotal: 1h 2m 30s\tremaining: 20m 28s\n",
      "113:\tlearn: 0.2462695\ttest: 0.2686671\tbest: 0.2686671 (113)\ttotal: 1h 3m 10s\tremaining: 19m 56s\n",
      "114:\tlearn: 0.2446857\ttest: 0.2671807\tbest: 0.2671807 (114)\ttotal: 1h 3m 45s\tremaining: 19m 24s\n",
      "115:\tlearn: 0.2431226\ttest: 0.2657039\tbest: 0.2657039 (115)\ttotal: 1h 4m 20s\tremaining: 18m 51s\n",
      "116:\tlearn: 0.2415779\ttest: 0.2642334\tbest: 0.2642334 (116)\ttotal: 1h 4m 55s\tremaining: 18m 18s\n",
      "117:\tlearn: 0.2400512\ttest: 0.2627962\tbest: 0.2627962 (117)\ttotal: 1h 5m 31s\tremaining: 17m 46s\n",
      "118:\tlearn: 0.2385397\ttest: 0.2613695\tbest: 0.2613695 (118)\ttotal: 1h 6m 10s\tremaining: 17m 14s\n",
      "119:\tlearn: 0.2370431\ttest: 0.2599595\tbest: 0.2599595 (119)\ttotal: 1h 6m 48s\tremaining: 16m 42s\n",
      "120:\tlearn: 0.2355712\ttest: 0.2585682\tbest: 0.2585682 (120)\ttotal: 1h 7m 26s\tremaining: 16m 9s\n",
      "121:\tlearn: 0.2341091\ttest: 0.2571981\tbest: 0.2571981 (121)\ttotal: 1h 8m 5s\tremaining: 15m 37s\n",
      "122:\tlearn: 0.2326717\ttest: 0.2558603\tbest: 0.2558603 (122)\ttotal: 1h 8m 44s\tremaining: 15m 5s\n",
      "123:\tlearn: 0.2312481\ttest: 0.2545204\tbest: 0.2545204 (123)\ttotal: 1h 9m 22s\tremaining: 14m 32s\n",
      "124:\tlearn: 0.2298458\ttest: 0.2531981\tbest: 0.2531981 (124)\ttotal: 1h 10m\tremaining: 14m\n",
      "125:\tlearn: 0.2284613\ttest: 0.2518854\tbest: 0.2518854 (125)\ttotal: 1h 10m 37s\tremaining: 13m 27s\n",
      "126:\tlearn: 0.2270919\ttest: 0.2505953\tbest: 0.2505953 (126)\ttotal: 1h 11m 16s\tremaining: 12m 54s\n",
      "127:\tlearn: 0.2257362\ttest: 0.2493188\tbest: 0.2493188 (127)\ttotal: 1h 11m 57s\tremaining: 12m 22s\n",
      "128:\tlearn: 0.2243992\ttest: 0.2480512\tbest: 0.2480512 (128)\ttotal: 1h 12m 37s\tremaining: 11m 49s\n",
      "129:\tlearn: 0.2230785\ttest: 0.2467967\tbest: 0.2467967 (129)\ttotal: 1h 13m 17s\tremaining: 11m 16s\n",
      "130:\tlearn: 0.2217724\ttest: 0.2455726\tbest: 0.2455726 (130)\ttotal: 1h 13m 55s\tremaining: 10m 43s\n",
      "131:\tlearn: 0.2204855\ttest: 0.2443661\tbest: 0.2443661 (131)\ttotal: 1h 14m 33s\tremaining: 10m 10s\n",
      "132:\tlearn: 0.2192155\ttest: 0.2431520\tbest: 0.2431520 (132)\ttotal: 1h 15m 12s\tremaining: 9m 36s\n",
      "133:\tlearn: 0.2179591\ttest: 0.2419580\tbest: 0.2419580 (133)\ttotal: 1h 15m 50s\tremaining: 9m 3s\n",
      "134:\tlearn: 0.2167058\ttest: 0.2407869\tbest: 0.2407869 (134)\ttotal: 1h 16m 28s\tremaining: 8m 29s\n",
      "135:\tlearn: 0.2154757\ttest: 0.2396285\tbest: 0.2396285 (135)\ttotal: 1h 17m 5s\tremaining: 7m 56s\n",
      "136:\tlearn: 0.2142645\ttest: 0.2384708\tbest: 0.2384708 (136)\ttotal: 1h 17m 43s\tremaining: 7m 22s\n",
      "137:\tlearn: 0.2130590\ttest: 0.2373402\tbest: 0.2373402 (137)\ttotal: 1h 18m 25s\tremaining: 6m 49s\n",
      "138:\tlearn: 0.2118697\ttest: 0.2362354\tbest: 0.2362354 (138)\ttotal: 1h 19m 5s\tremaining: 6m 15s\n",
      "139:\tlearn: 0.2106894\ttest: 0.2351238\tbest: 0.2351238 (139)\ttotal: 1h 19m 44s\tremaining: 5m 41s\n",
      "140:\tlearn: 0.2095264\ttest: 0.2340237\tbest: 0.2340237 (140)\ttotal: 1h 20m 22s\tremaining: 5m 7s\n",
      "141:\tlearn: 0.2083770\ttest: 0.2329556\tbest: 0.2329556 (141)\ttotal: 1h 21m 1s\tremaining: 4m 33s\n",
      "142:\tlearn: 0.2072469\ttest: 0.2318846\tbest: 0.2318846 (142)\ttotal: 1h 21m 39s\tremaining: 3m 59s\n",
      "143:\tlearn: 0.2061310\ttest: 0.2308197\tbest: 0.2308197 (143)\ttotal: 1h 22m 17s\tremaining: 3m 25s\n",
      "144:\tlearn: 0.2050195\ttest: 0.2297843\tbest: 0.2297843 (144)\ttotal: 1h 22m 56s\tremaining: 2m 51s\n",
      "145:\tlearn: 0.2039295\ttest: 0.2287513\tbest: 0.2287513 (145)\ttotal: 1h 23m 35s\tremaining: 2m 17s\n",
      "146:\tlearn: 0.2028387\ttest: 0.2277298\tbest: 0.2277298 (146)\ttotal: 1h 24m 15s\tremaining: 1m 43s\n",
      "147:\tlearn: 0.2017739\ttest: 0.2267332\tbest: 0.2267332 (147)\ttotal: 1h 24m 53s\tremaining: 1m 8s\n",
      "148:\tlearn: 0.2007118\ttest: 0.2257276\tbest: 0.2257276 (148)\ttotal: 1h 25m 31s\tremaining: 34.4s\n",
      "149:\tlearn: 0.1996713\ttest: 0.2247414\tbest: 0.2247414 (149)\ttotal: 1h 26m 10s\tremaining: 0us\n",
      "\n",
      "bestTest = 0.224741421\n",
      "bestIteration = 149\n",
      "\n",
      "[[0.11125061 0.11125471 0.73870619 ... 0.18096131 0.18421251 0.30139159]\n",
      " [0.11124556 0.11124455 0.73309055 ... 0.11134679 0.11135001 0.11214457]\n",
      " [0.11124556 0.11124455 0.73309055 ... 0.11134679 0.11135001 0.11214457]\n",
      " ...\n",
      " [0.11124555 0.11124453 0.72572952 ... 0.11134297 0.11134612 0.1121318 ]\n",
      " [0.11124641 0.11124541 0.75049133 ... 0.11137997 0.11138333 0.11222199]\n",
      " [0.11125731 0.11124938 0.5857516  ... 0.11153985 0.11161811 0.1124342 ]]\n"
     ]
    }
   ],
   "source": [
    "cat_model = CatBoostClassifier(iterations=150,\n",
    "                           learning_rate=0.01,\n",
    "                           depth=5,\n",
    "                           loss_function='MultiLogloss',\n",
    "                           random_seed=0)\n",
    "\n",
    "cat_model.fit(train_x, train_Y, eval_set=(valid_x, valid_Y), verbose=1, plot=True)\n"
   ]
  },
  {
   "cell_type": "code",
   "execution_count": 81,
   "id": "b6dc2a66",
   "metadata": {},
   "outputs": [
    {
     "name": "stderr",
     "output_type": "stream",
     "text": [
      "/Users/charleshuang0730/opt/anaconda3/lib/python3.9/site-packages/sklearn/metrics/_classification.py:1318: UndefinedMetricWarning: Precision and F-score are ill-defined and being set to 0.0 in labels with no predicted samples. Use `zero_division` parameter to control this behavior.\n",
      "  _warn_prf(average, modifier, msg_start, len(result))\n"
     ]
    },
    {
     "name": "stdout",
     "output_type": "stream",
     "text": [
      "              precision    recall  f1-score   support\n",
      "\n",
      "           0       0.00      0.00      0.00       177\n",
      "           1       0.00      0.00      0.00        37\n",
      "           2       0.81      0.80      0.81    757564\n",
      "           3       0.00      0.00      0.00       589\n",
      "           4       0.00      0.00      0.00    105695\n",
      "           5       1.00      0.77      0.87     13539\n",
      "           6       0.00      0.00      0.00      9657\n",
      "           7       0.75      0.06      0.10    209892\n",
      "           8       0.00      0.00      0.00     71597\n",
      "           9       0.00      0.00      0.00      2007\n",
      "          10       0.00      0.00      0.00      3095\n",
      "          11       0.00      0.00      0.00     66580\n",
      "          12       0.00      0.00      0.00    105612\n",
      "          13       0.00      0.00      0.00     26899\n",
      "          14       0.00      0.00      0.00      9859\n",
      "          15       0.00      0.00      0.00     14446\n",
      "          16       0.00      0.00      0.00      4116\n",
      "          17       0.00      0.00      0.00     69353\n",
      "          18       0.00      0.00      0.00     65844\n",
      "          19       0.00      0.00      0.00     38791\n",
      "          20       0.00      0.00      0.00      6416\n",
      "          21       0.00      0.00      0.00     71560\n",
      "          22       0.00      0.00      0.00     79426\n",
      "          23       0.70      0.04      0.08    166797\n",
      "\n",
      "   micro avg       0.81      0.34      0.47   1899548\n",
      "   macro avg       0.14      0.07      0.08   1899548\n",
      "weighted avg       0.47      0.34      0.35   1899548\n",
      " samples avg       0.62      0.47      0.51   1899548\n",
      "\n"
     ]
    },
    {
     "name": "stderr",
     "output_type": "stream",
     "text": [
      "/Users/charleshuang0730/opt/anaconda3/lib/python3.9/site-packages/sklearn/metrics/_classification.py:1318: UndefinedMetricWarning: Precision and F-score are ill-defined and being set to 0.0 in samples with no predicted labels. Use `zero_division` parameter to control this behavior.\n",
      "  _warn_prf(average, modifier, msg_start, len(result))\n",
      "/Users/charleshuang0730/opt/anaconda3/lib/python3.9/site-packages/sklearn/metrics/_classification.py:1318: UndefinedMetricWarning: Recall and F-score are ill-defined and being set to 0.0 in samples with no true labels. Use `zero_division` parameter to control this behavior.\n",
      "  _warn_prf(average, modifier, msg_start, len(result))\n"
     ]
    }
   ],
   "source": [
    "y_pred = cat_model.predict(valid_x)\n",
    "print(classification_report(valid_Y, y_pred))"
   ]
  },
  {
   "cell_type": "code",
   "execution_count": 80,
   "id": "76908142",
   "metadata": {},
   "outputs": [
    {
     "name": "stdout",
     "output_type": "stream",
     "text": [
      "[[0.11150065 0.11143341 0.58545341 ... 0.3332142  0.3621869  0.50150399]\n",
      " [0.11126589 0.1112457  0.36245645 ... 0.11158269 0.11161931 0.11278237]\n",
      " [0.11124714 0.11124701 0.80868015 ... 0.15010091 0.15145947 0.21965541]\n",
      " ...\n",
      " [0.1113647  0.11128037 0.6695814  ... 0.21451197 0.2214628  0.36627236]\n",
      " [0.11130248 0.11124504 0.40700711 ... 0.11136857 0.11138935 0.11206975]\n",
      " [0.11132172 0.11125583 0.42485597 ... 0.12016158 0.12397419 0.13330625]]\n"
     ]
    }
   ],
   "source": [
    "y_pred_prob = cat_model.predict_proba(test_x)\n",
    "print(y_pred_prob)"
   ]
  },
  {
   "cell_type": "code",
   "execution_count": 72,
   "id": "471ffdf3",
   "metadata": {},
   "outputs": [
    {
     "name": "stdout",
     "output_type": "stream",
     "text": [
      "929615\n",
      "[[ 2. 23. 12. ... 11.  7. 22.]\n",
      " [ 2. 12.  8. ...  6. 17.  4.]\n",
      " [ 2. 23.  4. ... 21. 12. 17.]\n",
      " ...\n",
      " [ 2. 23.  4. ...  7. 22. 21.]\n",
      " [ 2.  7.  8. ... 17.  6. 20.]\n",
      " [ 2.  7. 12. ... 23. 17.  4.]]\n"
     ]
    }
   ],
   "source": [
    "k = 7\n",
    "indice = np.zeros(7)\n",
    "pred_prob_res = np.zeros((len(y_pred_prob), 7))\n",
    "for idx, data in enumerate(y_pred_prob):\n",
    "    indice = data.argsort()[-k:][::-1]\n",
    "    pred_prob_res[idx] = indice\n",
    "print(len(pred_prob_res))\n",
    "print(pred_prob_res)\n",
    "    "
   ]
  },
  {
   "cell_type": "code",
   "execution_count": 73,
   "id": "dfde7f24",
   "metadata": {},
   "outputs": [
    {
     "name": "stdout",
     "output_type": "stream",
     "text": [
      "[[ 2. 23. 12. ... 11.  7. 22.]\n",
      " [ 2. 12.  8. ...  6. 17.  4.]\n",
      " [ 2. 23.  4. ... 21. 12. 17.]\n",
      " ...\n",
      " [ 2. 23.  4. ...  7. 22. 21.]\n",
      " [ 2.  7.  8. ... 17.  6. 20.]\n",
      " [ 2.  7. 12. ... 23. 17.  4.]]\n",
      "[['ind_cco_fin_ult1' 'ind_recibo_ult1' 'ind_ecue_fin_ult1' ...\n",
      "  'ind_dela_fin_ult1' 'ind_ctop_fin_ult1' 'ind_nom_pens_ult1']\n",
      " ['ind_cco_fin_ult1' 'ind_ecue_fin_ult1' 'ind_ctpp_fin_ult1' ...\n",
      "  'ind_ctma_fin_ult1' 'ind_reca_fin_ult1' 'ind_cno_fin_ult1']\n",
      " ['ind_cco_fin_ult1' 'ind_recibo_ult1' 'ind_cno_fin_ult1' ...\n",
      "  'ind_nomina_ult1' 'ind_ecue_fin_ult1' 'ind_reca_fin_ult1']\n",
      " ...\n",
      " ['ind_cco_fin_ult1' 'ind_recibo_ult1' 'ind_cno_fin_ult1' ...\n",
      "  'ind_ctop_fin_ult1' 'ind_nom_pens_ult1' 'ind_nomina_ult1']\n",
      " ['ind_cco_fin_ult1' 'ind_ctop_fin_ult1' 'ind_ctpp_fin_ult1' ...\n",
      "  'ind_reca_fin_ult1' 'ind_ctma_fin_ult1' 'ind_viv_fin_ult1']\n",
      " ['ind_cco_fin_ult1' 'ind_ctop_fin_ult1' 'ind_ecue_fin_ult1' ...\n",
      "  'ind_recibo_ult1' 'ind_reca_fin_ult1' 'ind_cno_fin_ult1']]\n"
     ]
    }
   ],
   "source": [
    "def map_dict(x):\n",
    "    return table[x]\n",
    "\n",
    "#pred_prob_res = pred_prob_res.astype(int)\n",
    "print(pred_prob_res)\n",
    "\n",
    "function = np.vectorize(map_dict)\n",
    "pred_prob_res = function(pred_prob_res)\n",
    "\n",
    "print(pred_prob_res)"
   ]
  },
  {
   "cell_type": "code",
   "execution_count": 74,
   "id": "45e9d96b",
   "metadata": {},
   "outputs": [
    {
     "name": "stderr",
     "output_type": "stream",
     "text": [
      "IOPub data rate exceeded.\n",
      "The notebook server will temporarily stop sending output\n",
      "to the client in order to avoid crashing it.\n",
      "To change this limit, set the config variable\n",
      "`--NotebookApp.iopub_data_rate_limit`.\n",
      "\n",
      "Current values:\n",
      "NotebookApp.iopub_data_rate_limit=1000000.0 (bytes/sec)\n",
      "NotebookApp.rate_limit_window=3.0 (secs)\n",
      "\n"
     ]
    }
   ],
   "source": [
    "# pred_prob_res = pred_prob_res.tolist()\n",
    "prediction = list()\n",
    "for i in pred_prob_res:\n",
    "    a = list()\n",
    "    a.append(i)\n",
    "    prediction.append(a)\n",
    "\n",
    "print(prediction)"
   ]
  },
  {
   "cell_type": "code",
   "execution_count": 75,
   "id": "4181bfce",
   "metadata": {},
   "outputs": [
    {
     "name": "stdout",
     "output_type": "stream",
     "text": [
      "                                                        0\n",
      "0       [ind_cco_fin_ult1, ind_recibo_ult1, ind_ecue_f...\n",
      "1       [ind_cco_fin_ult1, ind_ecue_fin_ult1, ind_ctpp...\n",
      "2       [ind_cco_fin_ult1, ind_recibo_ult1, ind_cno_fi...\n",
      "3       [ind_cco_fin_ult1, ind_reca_fin_ult1, ind_ecue...\n",
      "4       [ind_cco_fin_ult1, ind_reca_fin_ult1, ind_ecue...\n",
      "...                                                   ...\n",
      "929610  [ind_cco_fin_ult1, ind_recibo_ult1, ind_ecue_f...\n",
      "929611  [ind_cco_fin_ult1, ind_ctop_fin_ult1, ind_ctpp...\n",
      "929612  [ind_cco_fin_ult1, ind_recibo_ult1, ind_cno_fi...\n",
      "929613  [ind_cco_fin_ult1, ind_ctop_fin_ult1, ind_ctpp...\n",
      "929614  [ind_cco_fin_ult1, ind_ctop_fin_ult1, ind_ecue...\n",
      "\n",
      "[929615 rows x 1 columns]\n",
      "              7                                                  0\n",
      "0         15889  [ind_cco_fin_ult1, ind_recibo_ult1, ind_ecue_f...\n",
      "1       1170544  [ind_cco_fin_ult1, ind_ecue_fin_ult1, ind_ctpp...\n",
      "2       1170545  [ind_cco_fin_ult1, ind_recibo_ult1, ind_cno_fi...\n",
      "3       1170547  [ind_cco_fin_ult1, ind_reca_fin_ult1, ind_ecue...\n",
      "4       1170548  [ind_cco_fin_ult1, ind_reca_fin_ult1, ind_ecue...\n",
      "...         ...                                                ...\n",
      "929610   660237  [ind_cco_fin_ult1, ind_recibo_ult1, ind_ecue_f...\n",
      "929611   660238  [ind_cco_fin_ult1, ind_ctop_fin_ult1, ind_ctpp...\n",
      "929612   660240  [ind_cco_fin_ult1, ind_recibo_ult1, ind_cno_fi...\n",
      "929613   660243  [ind_cco_fin_ult1, ind_ctop_fin_ult1, ind_ctpp...\n",
      "929614   660248  [ind_cco_fin_ult1, ind_ctop_fin_ult1, ind_ecue...\n",
      "\n",
      "[929615 rows x 2 columns]\n"
     ]
    }
   ],
   "source": [
    "prediction = pd.DataFrame(prediction)\n",
    "\n",
    "print(prediction)\n",
    "\n",
    "result = pd.concat([code, prediction], axis=1)\n",
    "\n",
    "print(result)"
   ]
  },
  {
   "cell_type": "code",
   "execution_count": 76,
   "id": "1f34690d",
   "metadata": {},
   "outputs": [
    {
     "name": "stderr",
     "output_type": "stream",
     "text": [
      "IOPub data rate exceeded.\n",
      "The notebook server will temporarily stop sending output\n",
      "to the client in order to avoid crashing it.\n",
      "To change this limit, set the config variable\n",
      "`--NotebookApp.iopub_data_rate_limit`.\n",
      "\n",
      "Current values:\n",
      "NotebookApp.iopub_data_rate_limit=1000000.0 (bytes/sec)\n",
      "NotebookApp.rate_limit_window=3.0 (secs)\n",
      "\n"
     ]
    }
   ],
   "source": [
    "for idx, data in enumerate(result[0]):\n",
    "    s = ''\n",
    "    for i in data:\n",
    "        s += i\n",
    "        s += ' '\n",
    "    print(s)\n",
    "    result[0][idx] = s"
   ]
  },
  {
   "cell_type": "code",
   "execution_count": 77,
   "id": "2dd0bf9e",
   "metadata": {},
   "outputs": [
    {
     "name": "stdout",
     "output_type": "stream",
     "text": [
      "         7                                                  0\n",
      "0    15889  ind_cco_fin_ult1 ind_recibo_ult1 ind_ecue_fin_...\n",
      "1  1170544  ind_cco_fin_ult1 ind_ecue_fin_ult1 ind_ctpp_fi...\n",
      "2  1170545  ind_cco_fin_ult1 ind_recibo_ult1 ind_cno_fin_u...\n",
      "3  1170547  ind_cco_fin_ult1 ind_reca_fin_ult1 ind_ecue_fi...\n",
      "4  1170548  ind_cco_fin_ult1 ind_reca_fin_ult1 ind_ecue_fi...\n"
     ]
    }
   ],
   "source": [
    "print(result.head())"
   ]
  },
  {
   "cell_type": "code",
   "execution_count": 78,
   "id": "2ee9c1f2",
   "metadata": {},
   "outputs": [],
   "source": [
    "result.to_csv('predict.csv', index=False)"
   ]
  },
  {
   "cell_type": "code",
   "execution_count": null,
   "id": "9d45044e",
   "metadata": {},
   "outputs": [],
   "source": []
  }
 ],
 "metadata": {
  "kernelspec": {
   "display_name": "Python 3 (ipykernel)",
   "language": "python",
   "name": "python3"
  },
  "language_info": {
   "codemirror_mode": {
    "name": "ipython",
    "version": 3
   },
   "file_extension": ".py",
   "mimetype": "text/x-python",
   "name": "python",
   "nbconvert_exporter": "python",
   "pygments_lexer": "ipython3",
   "version": "3.9.15"
  }
 },
 "nbformat": 4,
 "nbformat_minor": 5
}
