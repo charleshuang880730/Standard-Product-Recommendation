{
 "cells": [
  {
   "cell_type": "code",
   "execution_count": 2,
   "id": "1043852b",
   "metadata": {},
   "outputs": [
    {
     "name": "stdout",
     "output_type": "stream",
     "text": [
      "original train_x shape: (13391269, 7)\n",
      "original train_y shape: (13391269,)\n",
      "\n",
      "final train_x shape: (12391269, 7)\n",
      "final train_y shape: (12391269,)\n",
      "final valid_x shape: (1000000, 7)\n",
      "final valid_y shape: (1000000,)\n",
      "final test_x shape: (929615, 7)\n"
     ]
    }
   ],
   "source": [
    "import os\n",
    "import csv\n",
    "import pandas as pd\n",
    "import numpy as np\n",
    "\n",
    "from sklearn.ensemble import RandomForestClassifier\n",
    "from catboost import CatBoostClassifier\n",
    "from xgboost import XGBClassifier\n",
    "#from lightgbm import LGBMClassifier\n",
    "from sklearn.metrics import classification_report\n",
    "\n",
    "def get_recomendations(recommendations, test_data_loc, filename):\n",
    "  '''\n",
    "  This function takes recomendation, test data location and file name \n",
    "  creates a csv file in the submission file format\n",
    "\n",
    "  recommendations : list of recomendations\n",
    "  test_data_loc : location of test data\n",
    "  filename : Name of the submission file\n",
    "  '''\n",
    "  test_data_file = csv.DictReader(open(test_data_loc)) #Reading the test data\n",
    "  test_ids = np.array([int(row['ncodpers']) for row in test_data_file]) #Get the user ids of customers in test data\n",
    "  fields = ['ncodpers', 'added_products'] #Column names\n",
    "  rows = np.vstack((test_ids, np.array(recommendations))).T #Creating an array of test ids and recomendations\n",
    "\n",
    "  with open(filename, 'w') as csvfile: #Creating a csv file with given name\n",
    "    csvwriter = csv.writer(csvfile)\n",
    "    csvwriter.writerow(fields) #Writing column names tothe file\n",
    "    csvwriter.writerows(rows) #Writing the rows to the file\n",
    "\n",
    "  print(filename, 'is created')\n",
    "\n",
    "test_x = np.load(\"test_x.npy\", allow_pickle=True)\n",
    "test_x_with_code = np.load(\"test_x_with_code.npy\", allow_pickle=True)\n",
    "train_x = np.load(\"train_x.npy\", allow_pickle=True)\n",
    "train_Y = np.load(\"train_y.npy\", allow_pickle=True)\n",
    "\n",
    "train_y = np.zeros(len(train_Y))\n",
    "\n",
    "df = pd.DataFrame(test_x_with_code)\n",
    "code = df[7]\n",
    "\n",
    "table = pd.read_csv('product.csv')\n",
    "table = table.drop('product_name', axis=1)\n",
    "table = table['product_id'].to_dict()\n",
    "\n",
    "for idx, data in enumerate(train_Y):\n",
    "    train_y[idx] = np.argmax(data)\n",
    "\n",
    "valid_size = 1000000\n",
    "print(f\"original train_x shape: {train_x.shape}\")\n",
    "print(f\"original train_y shape: {train_y.shape}\\n\")\n",
    "\n",
    "valid_x = train_x[:valid_size]  # 100,000 samples for validation\n",
    "valid_y = train_y[:valid_size]  # 100,000 samples for validation\n",
    "valid_Y = train_Y[:valid_size]\n",
    "\n",
    "train_x = train_x[valid_size:]\n",
    "train_y = train_y[valid_size:]\n",
    "train_Y = train_Y[valid_size:]\n",
    "\n",
    "print(f\"final train_x shape: {train_x.shape}\")\n",
    "print(f\"final train_y shape: {train_y.shape}\")\n",
    "print(f\"final valid_x shape: {valid_x.shape}\")\n",
    "print(f\"final valid_y shape: {valid_y.shape}\")\n",
    "print(f\"final test_x shape: {test_x.shape}\")"
   ]
  },
  {
   "cell_type": "code",
   "execution_count": null,
   "id": "acc534c7",
   "metadata": {},
   "outputs": [],
   "source": [
    "rf = RandomForestClassifier()"
   ]
  },
  {
   "cell_type": "code",
   "execution_count": null,
   "id": "9a09885c",
   "metadata": {},
   "outputs": [],
   "source": [
    "xgb_model = XGBClassifier(num_class=24,\n",
    "                        random_state=0,\n",
    "                        objective='multi:softmax',\n",
    "                        learning_rate=0.1,\n",
    "                        max_depth=3    \n",
    "                        )\n",
    "\n",
    "xgb_model.fit(train_x, train_y, verbose=1)\n",
    "y_pred = xgb_model.predict(valid_x)\n",
    "print(classification_report(valid_y, y_pred))"
   ]
  },
  {
   "cell_type": "code",
   "execution_count": null,
   "id": "d5313789",
   "metadata": {},
   "outputs": [],
   "source": [
    "gbm_model = LGBMClassifier(learning_rate=0.05, \n",
    "                            n_estimators=100, \n",
    "                            random_state=0,\n",
    "                            objective='multiclass',\n",
    "                            num_class=24,\n",
    "                            max_depth=3,\n",
    "                            )\n",
    "\n",
    "gbm_model.fit(train_x, train_y, verbose=1)\n",
    "y_pred = gbm_model.predict(valid_x)\n",
    "print(classification_report(valid_y, y_pred))"
   ]
  },
  {
   "cell_type": "code",
   "execution_count": null,
   "id": "6a6852c5",
   "metadata": {},
   "outputs": [],
   "source": [
    "cat_model = CatBoostClassifier(iterations=150,\n",
    "                           learning_rate=0.01,\n",
    "                           depth=5,\n",
    "                           loss_function='MultiLogloss',\n",
    "                           random_seed=0)\n",
    "\n",
    "cat_model.fit(train_x, train_Y, eval_set=(valid_x, valid_Y), verbose=1, plot=True)\n",
    "\n",
    "y_pred = cat_model.predict(valid_x)\n",
    "print(classification_report(valid_Y, y_pred))"
   ]
  },
  {
   "cell_type": "code",
   "execution_count": null,
   "id": "4181bfce",
   "metadata": {},
   "outputs": [],
   "source": [
    "y_pred = cat_model.predict(test_x)\n",
    "pred_res = np.zeros(len(y_pred))\n",
    "\n",
    "for idx, data in enumerate(y_pred):\n",
    "    pred_res[idx] = np.argmax(data)\n",
    "\n",
    "print(len(pred_res))\n",
    "prediction = pd.DataFrame(pred_res)\n",
    "print(prediction)\n",
    "print(len(code))\n",
    "print(code)\n",
    "prediction = prediction[0].map(table)\n",
    "\n",
    "result = pd.concat([code, prediction], axis=1)\n",
    "\n",
    "print(result)\n",
    "result.to_csv('predict.csv', index=False)"
   ]
  },
  {
   "cell_type": "code",
   "execution_count": null,
   "id": "2ee9c1f2",
   "metadata": {},
   "outputs": [],
   "source": []
  }
 ],
 "metadata": {
  "kernelspec": {
   "display_name": "Python 3 (ipykernel)",
   "language": "python",
   "name": "python3"
  },
  "language_info": {
   "codemirror_mode": {
    "name": "ipython",
    "version": 3
   },
   "file_extension": ".py",
   "mimetype": "text/x-python",
   "name": "python",
   "nbconvert_exporter": "python",
   "pygments_lexer": "ipython3",
   "version": "3.9.15"
  }
 },
 "nbformat": 4,
 "nbformat_minor": 5
}
