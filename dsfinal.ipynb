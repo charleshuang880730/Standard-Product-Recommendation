{
 "cells": [
  {
   "cell_type": "code",
   "execution_count": 7,
   "id": "c9ce9060",
   "metadata": {},
   "outputs": [
    {
     "ename": "FileNotFoundError",
     "evalue": "[Errno 2] No such file or directory: 'test_x.npy'",
     "output_type": "error",
     "traceback": [
      "\u001b[0;31m---------------------------------------------------------------------------\u001b[0m",
      "\u001b[0;31mFileNotFoundError\u001b[0m                         Traceback (most recent call last)",
      "\u001b[0;32m/var/folders/08/6nqm2gmd40z4dvh7fx2kjwx40000gn/T/ipykernel_26120/2804457755.py\u001b[0m in \u001b[0;36m<module>\u001b[0;34m\u001b[0m\n\u001b[1;32m     31\u001b[0m   \u001b[0mprint\u001b[0m\u001b[0;34m(\u001b[0m\u001b[0mfilename\u001b[0m\u001b[0;34m,\u001b[0m \u001b[0;34m'is created'\u001b[0m\u001b[0;34m)\u001b[0m\u001b[0;34m\u001b[0m\u001b[0;34m\u001b[0m\u001b[0m\n\u001b[1;32m     32\u001b[0m \u001b[0;34m\u001b[0m\u001b[0m\n\u001b[0;32m---> 33\u001b[0;31m \u001b[0mtest_x\u001b[0m \u001b[0;34m=\u001b[0m \u001b[0mnp\u001b[0m\u001b[0;34m.\u001b[0m\u001b[0mload\u001b[0m\u001b[0;34m(\u001b[0m\u001b[0;34m\"test_x.npy\"\u001b[0m\u001b[0;34m,\u001b[0m \u001b[0mallow_pickle\u001b[0m\u001b[0;34m=\u001b[0m\u001b[0;32mTrue\u001b[0m\u001b[0;34m)\u001b[0m\u001b[0;34m\u001b[0m\u001b[0;34m\u001b[0m\u001b[0m\n\u001b[0m\u001b[1;32m     34\u001b[0m \u001b[0mtest_x_with_code\u001b[0m \u001b[0;34m=\u001b[0m \u001b[0mnp\u001b[0m\u001b[0;34m.\u001b[0m\u001b[0mload\u001b[0m\u001b[0;34m(\u001b[0m\u001b[0;34m\"test_x_with_code.npy\"\u001b[0m\u001b[0;34m,\u001b[0m \u001b[0mallow_pickle\u001b[0m\u001b[0;34m=\u001b[0m\u001b[0;32mTrue\u001b[0m\u001b[0;34m)\u001b[0m\u001b[0;34m\u001b[0m\u001b[0;34m\u001b[0m\u001b[0m\n\u001b[1;32m     35\u001b[0m \u001b[0mtrain_x\u001b[0m \u001b[0;34m=\u001b[0m \u001b[0mnp\u001b[0m\u001b[0;34m.\u001b[0m\u001b[0mload\u001b[0m\u001b[0;34m(\u001b[0m\u001b[0;34m\"train_x.npy\"\u001b[0m\u001b[0;34m,\u001b[0m \u001b[0mallow_pickle\u001b[0m\u001b[0;34m=\u001b[0m\u001b[0;32mTrue\u001b[0m\u001b[0;34m)\u001b[0m\u001b[0;34m\u001b[0m\u001b[0;34m\u001b[0m\u001b[0m\n",
      "\u001b[0;32m~/opt/anaconda3/lib/python3.9/site-packages/numpy/lib/npyio.py\u001b[0m in \u001b[0;36mload\u001b[0;34m(file, mmap_mode, allow_pickle, fix_imports, encoding)\u001b[0m\n\u001b[1;32m    415\u001b[0m             \u001b[0mown_fid\u001b[0m \u001b[0;34m=\u001b[0m \u001b[0;32mFalse\u001b[0m\u001b[0;34m\u001b[0m\u001b[0;34m\u001b[0m\u001b[0m\n\u001b[1;32m    416\u001b[0m         \u001b[0;32melse\u001b[0m\u001b[0;34m:\u001b[0m\u001b[0;34m\u001b[0m\u001b[0;34m\u001b[0m\u001b[0m\n\u001b[0;32m--> 417\u001b[0;31m             \u001b[0mfid\u001b[0m \u001b[0;34m=\u001b[0m \u001b[0mstack\u001b[0m\u001b[0;34m.\u001b[0m\u001b[0menter_context\u001b[0m\u001b[0;34m(\u001b[0m\u001b[0mopen\u001b[0m\u001b[0;34m(\u001b[0m\u001b[0mos_fspath\u001b[0m\u001b[0;34m(\u001b[0m\u001b[0mfile\u001b[0m\u001b[0;34m)\u001b[0m\u001b[0;34m,\u001b[0m \u001b[0;34m\"rb\"\u001b[0m\u001b[0;34m)\u001b[0m\u001b[0;34m)\u001b[0m\u001b[0;34m\u001b[0m\u001b[0;34m\u001b[0m\u001b[0m\n\u001b[0m\u001b[1;32m    418\u001b[0m             \u001b[0mown_fid\u001b[0m \u001b[0;34m=\u001b[0m \u001b[0;32mTrue\u001b[0m\u001b[0;34m\u001b[0m\u001b[0;34m\u001b[0m\u001b[0m\n\u001b[1;32m    419\u001b[0m \u001b[0;34m\u001b[0m\u001b[0m\n",
      "\u001b[0;31mFileNotFoundError\u001b[0m: [Errno 2] No such file or directory: 'test_x.npy'"
     ]
    }
   ],
   "source": [
    "import os\n",
    "import csv\n",
    "import pandas as pd\n",
    "import numpy as np\n",
    "\n",
    "from sklearn.ensemble import RandomForestClassifier\n",
    "from catboost import CatBoostClassifier\n",
    "from xgboost import XGBClassifier\n",
    "#from lightgbm import LGBMClassifier\n",
    "from sklearn.metrics import classification_report\n",
    "\n",
    "def get_recomendations(recommendations, test_data_loc, filename):\n",
    "  '''\n",
    "  This function takes recomendation, test data location and file name \n",
    "  creates a csv file in the submission file format\n",
    "\n",
    "  recommendations : list of recomendations\n",
    "  test_data_loc : location of test data\n",
    "  filename : Name of the submission file\n",
    "  '''\n",
    "  test_data_file = csv.DictReader(open(test_data_loc)) #Reading the test data\n",
    "  test_ids = np.array([int(row['ncodpers']) for row in test_data_file]) #Get the user ids of customers in test data\n",
    "  fields = ['ncodpers', 'added_products'] #Column names\n",
    "  rows = np.vstack((test_ids, np.array(recommendations))).T #Creating an array of test ids and recomendations\n",
    "\n",
    "  with open(filename, 'w') as csvfile: #Creating a csv file with given name\n",
    "    csvwriter = csv.writer(csvfile)\n",
    "    csvwriter.writerow(fields) #Writing column names tothe file\n",
    "    csvwriter.writerows(rows) #Writing the rows to the file\n",
    "\n",
    "  print(filename, 'is created')\n",
    "\n",
    "test_x = np.load(\"test_x.npy\", allow_pickle=True)\n",
    "test_x_with_code = np.load(\"test_x_with_code.npy\", allow_pickle=True)\n",
    "train_x = np.load(\"train_x.npy\", allow_pickle=True)\n",
    "train_Y = np.load(\"train_y.npy\", allow_pickle=True)\n",
    "\n",
    "train_y = np.zeros(len(train_Y))\n",
    "\n",
    "df = pd.DataFrame(test_x_with_code)\n",
    "code = df[7]\n",
    "\n",
    "table = pd.read_csv('product.csv')\n",
    "table = table.drop('product_name', axis=1)\n",
    "table = table['product_id'].to_dict()\n",
    "\n",
    "for idx, data in enumerate(train_Y):\n",
    "    train_y[idx] = np.argmax(data)\n",
    "\n",
    "valid_size = 1000000\n",
    "print(f\"original train_x shape: {train_x.shape}\")\n",
    "print(f\"original train_y shape: {train_y.shape}\\n\")\n",
    "\n",
    "valid_x = train_x[:valid_size]  # 100,000 samples for validation\n",
    "valid_y = train_y[:valid_size]  # 100,000 samples for validation\n",
    "valid_Y = train_Y[:valid_size]\n",
    "\n",
    "train_x = train_x[valid_size:]\n",
    "train_y = train_y[valid_size:]\n",
    "train_Y = train_Y[valid_size:]\n",
    "\n",
    "print(f\"final train_x shape: {train_x.shape}\")\n",
    "print(f\"final train_y shape: {train_y.shape}\")\n",
    "print(f\"final valid_x shape: {valid_x.shape}\")\n",
    "print(f\"final valid_y shape: {valid_y.shape}\")\n",
    "print(f\"final test_x shape: {test_x.shape}\")"
   ]
  },
  {
   "cell_type": "code",
   "execution_count": 6,
   "id": "28f566cc",
   "metadata": {},
   "outputs": [],
   "source": [
    "rf = RandomForestClassifier()"
   ]
  },
  {
   "cell_type": "code",
   "execution_count": null,
   "id": "662b3bc7",
   "metadata": {},
   "outputs": [],
   "source": [
    "xgb_model = XGBClassifier(num_class=24,\n",
    "                        random_state=0,\n",
    "                        objective='multi:softmax',\n",
    "                        learning_rate=0.1,\n",
    "                        max_depth=3    \n",
    "                        )\n",
    "\n",
    "xgb_model.fit(train_x, train_y, verbose=1)\n",
    "y_pred = xgb_model.predict(valid_x)\n",
    "print(classification_report(valid_y, y_pred))"
   ]
  },
  {
   "cell_type": "code",
   "execution_count": null,
   "id": "b23387cf",
   "metadata": {},
   "outputs": [],
   "source": [
    "gbm_model = LGBMClassifier(learning_rate=0.05, \n",
    "                            n_estimators=100, \n",
    "                            random_state=0,\n",
    "                            objective='multiclass',\n",
    "                            num_class=24,\n",
    "                            max_depth=3,\n",
    "                            )\n",
    "\n",
    "gbm_model.fit(train_x, train_y, verbose=1)\n",
    "y_pred = gbm_model.predict(valid_x)\n",
    "print(classification_report(valid_y, y_pred))"
   ]
  },
  {
   "cell_type": "code",
   "execution_count": null,
   "id": "a1ca587d",
   "metadata": {},
   "outputs": [],
   "source": [
    "cat_model = CatBoostClassifier(iterations=200,\n",
    "                           learning_rate=0.01,\n",
    "                           depth=8,\n",
    "                           loss_function='MultiLogloss',\n",
    "                           random_seed=0)\n",
    "\n",
    "cat_model.fit(train_x, train_Y, eval_set=(valid_x, valid_Y), verbose=1, plot=True)\n",
    "\n",
    "y_pred = cat_model.predict(valid_x)\n",
    "print(classification_report(valid_Y, y_pred))"
   ]
  },
  {
   "cell_type": "code",
   "execution_count": null,
   "id": "93040a2b",
   "metadata": {},
   "outputs": [],
   "source": [
    "y_pred = cat_model.predict(test_x)\n",
    "pred_res = np.zeros(len(y_pred))\n",
    "\n",
    "for idx, data in enumerate(y_pred):\n",
    "    pred_res[idx] = np.argmax(data)\n",
    "\n",
    "print(len(pred_res))\n",
    "prediction = pd.DataFrame(pred_res)\n",
    "print(prediction)\n",
    "print(len(code))\n",
    "print(code)\n",
    "prediction = prediction[0].map(table)\n",
    "\n",
    "result = pd.concat([code, prediction], axis=1)\n",
    "\n",
    "print(result)\n",
    "result.to_csv('predict.csv', index=False)"
   ]
  },
  {
   "cell_type": "code",
   "execution_count": null,
   "id": "0499ac77",
   "metadata": {},
   "outputs": [],
   "source": []
  }
 ],
 "metadata": {
  "kernelspec": {
   "display_name": "Python 3 (ipykernel)",
   "language": "python",
   "name": "python3"
  },
  "language_info": {
   "codemirror_mode": {
    "name": "ipython",
    "version": 3
   },
   "file_extension": ".py",
   "mimetype": "text/x-python",
   "name": "python",
   "nbconvert_exporter": "python",
   "pygments_lexer": "ipython3",
   "version": "3.9.15"
  }
 },
 "nbformat": 4,
 "nbformat_minor": 5
}
